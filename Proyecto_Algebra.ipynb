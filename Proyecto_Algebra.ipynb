{
 "cells": [
  {
   "cell_type": "markdown",
   "metadata": {},
   "source": [
    "# Proyecto Algebra 1\n",
    "\n",
    "### Integrantes :\n",
    " - Eduardo Pavez\n",
    " - Benjamin Thareau\n",
    "\n",
    "  ### 1. Definir:\n",
    "   -  vec : OK\n",
    "   -  ListVec : OK"
   ]
  },
  {
   "cell_type": "code",
   "execution_count": 1,
   "metadata": {},
   "outputs": [],
   "source": [
    "from vec import Vec\n",
    "from listvec import ListVec"
   ]
  },
  {
   "cell_type": "markdown",
   "metadata": {},
   "source": [
    "  ### 2. MovieLens:\n",
    "  - Es un recomendador de peliculas\n"
   ]
  },
  {
   "cell_type": "code",
   "execution_count": 5,
   "metadata": {},
   "outputs": [],
   "source": [
    "ratings=[i.strip().split(\",\") for i in list(open(\"ratings.csv\"))]\n",
    "movies=[i.strip().split(\",\") for i in list(open(\"movies.csv\"))]"
   ]
  },
  {
   "cell_type": "code",
   "execution_count": 4,
   "metadata": {},
   "outputs": [],
   "source": [
    "# Definimos el dominio para el vector gusto de cada usuario.\n",
    "dominio = set()\n",
    "l_vectores = []\n",
    "for i in range(len(movies)+1):\n",
    "    if i == 0:\n",
    "        continue\n",
    "    \n",
    "    dominio.add(i)\n",
    "\n",
    "for i in range(len(ratings)+1):\n",
    "    if i == 0:\n",
    "        continue\n",
    "\n",
    "    v_gusto = []\n",
    "    v_gusto.append([i, []])\n"
   ]
  },
  {
   "cell_type": "markdown",
   "metadata": {},
   "source": []
  }
 ],
 "metadata": {
  "kernelspec": {
   "display_name": "Python 3.10.6 64-bit",
   "language": "python",
   "name": "python3"
  },
  "language_info": {
   "codemirror_mode": {
    "name": "ipython",
    "version": 3
   },
   "file_extension": ".py",
   "mimetype": "text/x-python",
   "name": "python",
   "nbconvert_exporter": "python",
   "pygments_lexer": "ipython3",
   "version": "3.10.6"
  },
  "orig_nbformat": 4,
  "vscode": {
   "interpreter": {
    "hash": "84b91b2601fbda17d92c78905045e07cd7c205773d5758d1e3047085b73b32c8"
   }
  }
 },
 "nbformat": 4,
 "nbformat_minor": 2
}
